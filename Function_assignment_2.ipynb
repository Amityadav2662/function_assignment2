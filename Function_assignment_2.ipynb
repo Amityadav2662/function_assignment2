{
 "cells": [
  {
   "cell_type": "code",
   "execution_count": 123,
   "id": "62ef481c-f7b8-49e6-a1ce-dc890f302a09",
   "metadata": {},
   "outputs": [
    {
     "name": "stdout",
     "output_type": "stream",
     "text": [
      "[('Virat Kohli', 24936), ('Jack Kallis', 25534), ('Ricky Ponting', 27483), ('Sachin Tendulkar', 34357)]\n"
     ]
    }
   ],
   "source": [
    "#Q1. Create a python program to sort the given list of tuples based on integer value using a lambda function.\n",
    "l = [('Sachin Tendulkar', 34357), ('Ricky Ponting', 27483), ('Jack Kallis', 25534), ('Virat Kohli', 24936)]\n",
    "\n",
    "l.sort(key = lambda x : x[1])\n",
    "print(l)"
   ]
  },
  {
   "cell_type": "code",
   "execution_count": 112,
   "id": "e4a8a382-1562-4acd-bf70-709248e14328",
   "metadata": {},
   "outputs": [],
   "source": [
    "#Q2. Write a Python Program to find the squares of all the numbers in the given list of integers using lambda and map functions.\n",
    "l = [1, 2, 3, 4, 5, 6, 7, 8, 9, 10]\n",
    "\n",
    "def sq(l):\n",
    "    return l**2"
   ]
  },
  {
   "cell_type": "code",
   "execution_count": 113,
   "id": "99947ac0-b562-4f50-951a-73379a51aa6f",
   "metadata": {},
   "outputs": [
    {
     "data": {
      "text/plain": [
       "[1, 4, 9, 16, 25, 36, 49, 64, 81, 100]"
      ]
     },
     "execution_count": 113,
     "metadata": {},
     "output_type": "execute_result"
    }
   ],
   "source": [
    "list(map(sq,l))"
   ]
  },
  {
   "cell_type": "code",
   "execution_count": 114,
   "id": "f399c182-c211-459c-a2b1-03484dc5e0d8",
   "metadata": {},
   "outputs": [
    {
     "data": {
      "text/plain": [
       "[1, 4, 9, 16, 25, 36, 49, 64, 81, 100]"
      ]
     },
     "execution_count": 114,
     "metadata": {},
     "output_type": "execute_result"
    }
   ],
   "source": [
    "list(map(lambda a : a**2,l))"
   ]
  },
  {
   "cell_type": "code",
   "execution_count": 115,
   "id": "e630d194-6af6-453a-bf24-9f4fdeca9771",
   "metadata": {},
   "outputs": [],
   "source": [
    "\"\"\"Q3. Write a python program to convert the given list of integers into a tuple of strings. Use map and lambda functions\n",
    "Given String: [1, 2, 3, 4, 5, 6, 7, 8, 9, 10]\n",
    "Expected output: ('1', '2', '3', '4', '5', '6', '7', '8', '9', '10')\"\"\"\n",
    "\n",
    "li = [1, 2, 3, 4, 5, 6, 7, 8, 9, 10]\n",
    "\n",
    "def tup(li):\n",
    "    return str(li)"
   ]
  },
  {
   "cell_type": "code",
   "execution_count": 116,
   "id": "530c1117-ca68-4a4a-a391-7edd20f5f033",
   "metadata": {},
   "outputs": [
    {
     "data": {
      "text/plain": [
       "('1', '2', '3', '4', '5', '6', '7', '8', '9', '10')"
      ]
     },
     "execution_count": 116,
     "metadata": {},
     "output_type": "execute_result"
    }
   ],
   "source": [
    "tuple(map(tup,li))"
   ]
  },
  {
   "cell_type": "code",
   "execution_count": 117,
   "id": "92bc4dc4-e404-470f-8f03-ffdc1d552daa",
   "metadata": {},
   "outputs": [
    {
     "data": {
      "text/plain": [
       "('1', '2', '3', '4', '5', '6', '7', '8', '9', '10')"
      ]
     },
     "execution_count": 117,
     "metadata": {},
     "output_type": "execute_result"
    }
   ],
   "source": [
    "tuple(map(lambda a : str(a), li)) "
   ]
  },
  {
   "cell_type": "code",
   "execution_count": 118,
   "id": "87f05918-36c6-405b-8aaa-5bffda148938",
   "metadata": {},
   "outputs": [
    {
     "data": {
      "text/plain": [
       "620448401733239439360000"
      ]
     },
     "execution_count": 118,
     "metadata": {},
     "output_type": "execute_result"
    }
   ],
   "source": [
    "#Q4. Write a python program using reduce function to compute the product of a list containing numbers from 1 to 25.\n",
    "\n",
    "from functools import reduce\n",
    "\n",
    "reduce(lambda a , b : a*b , range(1,25))"
   ]
  },
  {
   "cell_type": "code",
   "execution_count": 132,
   "id": "1a9ed363-1198-4cba-898b-982749e04890",
   "metadata": {},
   "outputs": [
    {
     "data": {
      "text/plain": [
       "[6, 60, 90, 120]"
      ]
     },
     "execution_count": 132,
     "metadata": {},
     "output_type": "execute_result"
    }
   ],
   "source": [
    "#Q5. Write a python program to filter the numbers in a given list that are divisible by 2 and 3 using the filter function.\n",
    "l = [2, 3, 6, 9, 27, 60, 90, 120, 55, 46]\n",
    "\n",
    "list(filter(lambda a : a%2==0 and a%3==0 , l))"
   ]
  },
  {
   "cell_type": "code",
   "execution_count": 129,
   "id": "81661a6f-dbfc-49cc-83a9-13eac392310e",
   "metadata": {},
   "outputs": [
    {
     "data": {
      "text/plain": [
       "['php', 'aba', 'radar', 'level']"
      ]
     },
     "execution_count": 129,
     "metadata": {},
     "output_type": "execute_result"
    }
   ],
   "source": [
    "#Q6. Write a python program to find palindromes in the given list of strings using lambda and filter function.\n",
    "str_l = ['python', 'php', 'aba', 'radar', 'level']\n",
    "\n",
    "list(filter(lambda x: x == x[::-1], str_l))"
   ]
  },
  {
   "cell_type": "code",
   "execution_count": null,
   "id": "02c847b0-fc9c-4080-9086-9cb73553c213",
   "metadata": {},
   "outputs": [],
   "source": []
  },
  {
   "cell_type": "code",
   "execution_count": null,
   "id": "b5cb1745-e258-421b-b4a6-c2f867f02e60",
   "metadata": {},
   "outputs": [],
   "source": []
  }
 ],
 "metadata": {
  "kernelspec": {
   "display_name": "Python 3 (ipykernel)",
   "language": "python",
   "name": "python3"
  },
  "language_info": {
   "codemirror_mode": {
    "name": "ipython",
    "version": 3
   },
   "file_extension": ".py",
   "mimetype": "text/x-python",
   "name": "python",
   "nbconvert_exporter": "python",
   "pygments_lexer": "ipython3",
   "version": "3.10.8"
  }
 },
 "nbformat": 4,
 "nbformat_minor": 5
}
